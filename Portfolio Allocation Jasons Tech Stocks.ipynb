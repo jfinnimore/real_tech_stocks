{
 "cells": [
  {
   "cell_type": "code",
   "execution_count": 1,
   "metadata": {
    "collapsed": true
   },
   "outputs": [],
   "source": [
    "import pandas as pd\n",
    "import quandl"
   ]
  },
  {
   "cell_type": "code",
   "execution_count": 3,
   "metadata": {
    "collapsed": true
   },
   "outputs": [],
   "source": [
    "start = pd.to_datetime('2015-01-01')\n",
    "end = pd.to_datetime('2018-03-09')"
   ]
  },
  {
   "cell_type": "code",
   "execution_count": 4,
   "metadata": {
    "collapsed": false
   },
   "outputs": [],
   "source": [
    "aapl = quandl.get('WIKI/AAPL.11', start_date = start, end_date = end)\n",
    "amd = quandl.get('WIKI/AMD.11', start_date = start, end_date = end)\n",
    "alphabet_clA = quandl.get('WIKI/GOOGL.11', start_date = start, end_date = end)\n",
    "alphabet_clC = quandl.get('WIKI/GOOG.11', start_date = start, end_date = end)\n",
    "amzn = quandl.get('WIKI/AMZN.11', start_date = start, end_date = end)\n",
    "neon = quandl.get('WIKI/NEON.11', start_date = start, end_date = end)"
   ]
  },
  {
   "cell_type": "code",
   "execution_count": 5,
   "metadata": {
    "collapsed": false
   },
   "outputs": [
    {
     "data": {
      "text/html": [
       "<div>\n",
       "<table border=\"1\" class=\"dataframe\">\n",
       "  <thead>\n",
       "    <tr style=\"text-align: right;\">\n",
       "      <th></th>\n",
       "      <th>Adj. Close</th>\n",
       "    </tr>\n",
       "    <tr>\n",
       "      <th>Date</th>\n",
       "      <th></th>\n",
       "    </tr>\n",
       "  </thead>\n",
       "  <tbody>\n",
       "    <tr>\n",
       "      <th>2015-01-02</th>\n",
       "      <td>3.49</td>\n",
       "    </tr>\n",
       "    <tr>\n",
       "      <th>2015-01-05</th>\n",
       "      <td>3.33</td>\n",
       "    </tr>\n",
       "    <tr>\n",
       "      <th>2015-01-06</th>\n",
       "      <td>2.62</td>\n",
       "    </tr>\n",
       "    <tr>\n",
       "      <th>2015-01-07</th>\n",
       "      <td>2.94</td>\n",
       "    </tr>\n",
       "    <tr>\n",
       "      <th>2015-01-08</th>\n",
       "      <td>2.98</td>\n",
       "    </tr>\n",
       "  </tbody>\n",
       "</table>\n",
       "</div>"
      ],
      "text/plain": [
       "            Adj. Close\n",
       "Date                  \n",
       "2015-01-02        3.49\n",
       "2015-01-05        3.33\n",
       "2015-01-06        2.62\n",
       "2015-01-07        2.94\n",
       "2015-01-08        2.98"
      ]
     },
     "execution_count": 5,
     "metadata": {},
     "output_type": "execute_result"
    }
   ],
   "source": [
    "neon.head()"
   ]
  },
  {
   "cell_type": "code",
   "execution_count": 6,
   "metadata": {
    "collapsed": false
   },
   "outputs": [
    {
     "data": {
      "text/plain": [
       "3.4900000000000002"
      ]
     },
     "execution_count": 6,
     "metadata": {},
     "output_type": "execute_result"
    }
   ],
   "source": [
    "neon.iloc[0]['Adj. Close']"
   ]
  },
  {
   "cell_type": "code",
   "execution_count": 7,
   "metadata": {
    "collapsed": true
   },
   "outputs": [],
   "source": [
    "for stock_df in (aapl, amzn, amd, neon, alphabet_clA, alphabet_clC):\n",
    "    stock_df['Normed Return'] = stock_df['Adj. Close'] / stock_df.iloc[0]['Adj. Close']"
   ]
  },
  {
   "cell_type": "code",
   "execution_count": 8,
   "metadata": {
    "collapsed": false
   },
   "outputs": [
    {
     "data": {
      "text/html": [
       "<div>\n",
       "<table border=\"1\" class=\"dataframe\">\n",
       "  <thead>\n",
       "    <tr style=\"text-align: right;\">\n",
       "      <th></th>\n",
       "      <th>Adj. Close</th>\n",
       "      <th>Normed Return</th>\n",
       "    </tr>\n",
       "    <tr>\n",
       "      <th>Date</th>\n",
       "      <th></th>\n",
       "      <th></th>\n",
       "    </tr>\n",
       "  </thead>\n",
       "  <tbody>\n",
       "    <tr>\n",
       "      <th>2015-01-02</th>\n",
       "      <td>3.49</td>\n",
       "      <td>1.000000</td>\n",
       "    </tr>\n",
       "    <tr>\n",
       "      <th>2015-01-05</th>\n",
       "      <td>3.33</td>\n",
       "      <td>0.954155</td>\n",
       "    </tr>\n",
       "    <tr>\n",
       "      <th>2015-01-06</th>\n",
       "      <td>2.62</td>\n",
       "      <td>0.750716</td>\n",
       "    </tr>\n",
       "    <tr>\n",
       "      <th>2015-01-07</th>\n",
       "      <td>2.94</td>\n",
       "      <td>0.842407</td>\n",
       "    </tr>\n",
       "    <tr>\n",
       "      <th>2015-01-08</th>\n",
       "      <td>2.98</td>\n",
       "      <td>0.853868</td>\n",
       "    </tr>\n",
       "  </tbody>\n",
       "</table>\n",
       "</div>"
      ],
      "text/plain": [
       "            Adj. Close  Normed Return\n",
       "Date                                 \n",
       "2015-01-02        3.49       1.000000\n",
       "2015-01-05        3.33       0.954155\n",
       "2015-01-06        2.62       0.750716\n",
       "2015-01-07        2.94       0.842407\n",
       "2015-01-08        2.98       0.853868"
      ]
     },
     "execution_count": 8,
     "metadata": {},
     "output_type": "execute_result"
    }
   ],
   "source": [
    "neon.head()"
   ]
  },
  {
   "cell_type": "code",
   "execution_count": 9,
   "metadata": {
    "collapsed": false
   },
   "outputs": [
    {
     "data": {
      "text/html": [
       "<div>\n",
       "<table border=\"1\" class=\"dataframe\">\n",
       "  <thead>\n",
       "    <tr style=\"text-align: right;\">\n",
       "      <th></th>\n",
       "      <th>Adj. Close</th>\n",
       "      <th>Normed Return</th>\n",
       "    </tr>\n",
       "    <tr>\n",
       "      <th>Date</th>\n",
       "      <th></th>\n",
       "      <th></th>\n",
       "    </tr>\n",
       "  </thead>\n",
       "  <tbody>\n",
       "    <tr>\n",
       "      <th>2018-03-05</th>\n",
       "      <td>0.5151</td>\n",
       "      <td>0.147593</td>\n",
       "    </tr>\n",
       "    <tr>\n",
       "      <th>2018-03-06</th>\n",
       "      <td>0.4947</td>\n",
       "      <td>0.141748</td>\n",
       "    </tr>\n",
       "    <tr>\n",
       "      <th>2018-03-07</th>\n",
       "      <td>0.4900</td>\n",
       "      <td>0.140401</td>\n",
       "    </tr>\n",
       "    <tr>\n",
       "      <th>2018-03-08</th>\n",
       "      <td>0.4870</td>\n",
       "      <td>0.139542</td>\n",
       "    </tr>\n",
       "    <tr>\n",
       "      <th>2018-03-09</th>\n",
       "      <td>0.5000</td>\n",
       "      <td>0.143266</td>\n",
       "    </tr>\n",
       "  </tbody>\n",
       "</table>\n",
       "</div>"
      ],
      "text/plain": [
       "            Adj. Close  Normed Return\n",
       "Date                                 \n",
       "2018-03-05      0.5151       0.147593\n",
       "2018-03-06      0.4947       0.141748\n",
       "2018-03-07      0.4900       0.140401\n",
       "2018-03-08      0.4870       0.139542\n",
       "2018-03-09      0.5000       0.143266"
      ]
     },
     "execution_count": 9,
     "metadata": {},
     "output_type": "execute_result"
    }
   ],
   "source": [
    "neon.tail()"
   ]
  },
  {
   "cell_type": "code",
   "execution_count": 15,
   "metadata": {
    "collapsed": false
   },
   "outputs": [],
   "source": [
    "# list(zip((aapl, amzn, amd, alphabet_clA, alphabet_clA, neon),[.58,.28,.03,.05,.05,.01]))"
   ]
  },
  {
   "cell_type": "code",
   "execution_count": 10,
   "metadata": {
    "collapsed": false
   },
   "outputs": [],
   "source": [
    "# 58% im aapl\n",
    "# 3% in amd\n",
    "# 28% in amzn\n",
    "# 5% in alphabet_clA\n",
    "# 5% in alphabet_clC\n",
    "# 1% in neon \n",
    "\n",
    "for stock_df , allo in zip((aapl, amzn, amd, alphabet_clA, alphabet_clC, neon),[.58,.28,.03,.05,.05,.01]):\n",
    "    stock_df['Allocation'] = stock_df['Normed Return']*allo"
   ]
  },
  {
   "cell_type": "code",
   "execution_count": 12,
   "metadata": {
    "collapsed": false
   },
   "outputs": [
    {
     "data": {
      "text/html": [
       "<div>\n",
       "<table border=\"1\" class=\"dataframe\">\n",
       "  <thead>\n",
       "    <tr style=\"text-align: right;\">\n",
       "      <th></th>\n",
       "      <th>Adj. Close</th>\n",
       "      <th>Normed Return</th>\n",
       "      <th>Allocation</th>\n",
       "    </tr>\n",
       "    <tr>\n",
       "      <th>Date</th>\n",
       "      <th></th>\n",
       "      <th></th>\n",
       "      <th></th>\n",
       "    </tr>\n",
       "  </thead>\n",
       "  <tbody>\n",
       "    <tr>\n",
       "      <th>2015-01-02</th>\n",
       "      <td>3.49</td>\n",
       "      <td>1.000000</td>\n",
       "      <td>0.010000</td>\n",
       "    </tr>\n",
       "    <tr>\n",
       "      <th>2015-01-05</th>\n",
       "      <td>3.33</td>\n",
       "      <td>0.954155</td>\n",
       "      <td>0.009542</td>\n",
       "    </tr>\n",
       "    <tr>\n",
       "      <th>2015-01-06</th>\n",
       "      <td>2.62</td>\n",
       "      <td>0.750716</td>\n",
       "      <td>0.007507</td>\n",
       "    </tr>\n",
       "    <tr>\n",
       "      <th>2015-01-07</th>\n",
       "      <td>2.94</td>\n",
       "      <td>0.842407</td>\n",
       "      <td>0.008424</td>\n",
       "    </tr>\n",
       "    <tr>\n",
       "      <th>2015-01-08</th>\n",
       "      <td>2.98</td>\n",
       "      <td>0.853868</td>\n",
       "      <td>0.008539</td>\n",
       "    </tr>\n",
       "  </tbody>\n",
       "</table>\n",
       "</div>"
      ],
      "text/plain": [
       "            Adj. Close  Normed Return  Allocation\n",
       "Date                                             \n",
       "2015-01-02        3.49       1.000000    0.010000\n",
       "2015-01-05        3.33       0.954155    0.009542\n",
       "2015-01-06        2.62       0.750716    0.007507\n",
       "2015-01-07        2.94       0.842407    0.008424\n",
       "2015-01-08        2.98       0.853868    0.008539"
      ]
     },
     "execution_count": 12,
     "metadata": {},
     "output_type": "execute_result"
    }
   ],
   "source": [
    "neon.head()"
   ]
  },
  {
   "cell_type": "code",
   "execution_count": 13,
   "metadata": {
    "collapsed": true
   },
   "outputs": [],
   "source": [
    "for stock_df in (aapl, amzn, amd, alphabet_clA, alphabet_clC, neon):\n",
    "    stock_df['Position Values'] = stock_df['Allocation']*10000"
   ]
  },
  {
   "cell_type": "code",
   "execution_count": 14,
   "metadata": {
    "collapsed": false
   },
   "outputs": [
    {
     "data": {
      "text/html": [
       "<div>\n",
       "<table border=\"1\" class=\"dataframe\">\n",
       "  <thead>\n",
       "    <tr style=\"text-align: right;\">\n",
       "      <th></th>\n",
       "      <th>Adj. Close</th>\n",
       "      <th>Normed Return</th>\n",
       "      <th>Allocation</th>\n",
       "      <th>Position Values</th>\n",
       "    </tr>\n",
       "    <tr>\n",
       "      <th>Date</th>\n",
       "      <th></th>\n",
       "      <th></th>\n",
       "      <th></th>\n",
       "      <th></th>\n",
       "    </tr>\n",
       "  </thead>\n",
       "  <tbody>\n",
       "    <tr>\n",
       "      <th>2015-01-02</th>\n",
       "      <td>3.49</td>\n",
       "      <td>1.000000</td>\n",
       "      <td>0.010000</td>\n",
       "      <td>100.000000</td>\n",
       "    </tr>\n",
       "    <tr>\n",
       "      <th>2015-01-05</th>\n",
       "      <td>3.33</td>\n",
       "      <td>0.954155</td>\n",
       "      <td>0.009542</td>\n",
       "      <td>95.415473</td>\n",
       "    </tr>\n",
       "    <tr>\n",
       "      <th>2015-01-06</th>\n",
       "      <td>2.62</td>\n",
       "      <td>0.750716</td>\n",
       "      <td>0.007507</td>\n",
       "      <td>75.071633</td>\n",
       "    </tr>\n",
       "    <tr>\n",
       "      <th>2015-01-07</th>\n",
       "      <td>2.94</td>\n",
       "      <td>0.842407</td>\n",
       "      <td>0.008424</td>\n",
       "      <td>84.240688</td>\n",
       "    </tr>\n",
       "    <tr>\n",
       "      <th>2015-01-08</th>\n",
       "      <td>2.98</td>\n",
       "      <td>0.853868</td>\n",
       "      <td>0.008539</td>\n",
       "      <td>85.386819</td>\n",
       "    </tr>\n",
       "  </tbody>\n",
       "</table>\n",
       "</div>"
      ],
      "text/plain": [
       "            Adj. Close  Normed Return  Allocation  Position Values\n",
       "Date                                                              \n",
       "2015-01-02        3.49       1.000000    0.010000       100.000000\n",
       "2015-01-05        3.33       0.954155    0.009542        95.415473\n",
       "2015-01-06        2.62       0.750716    0.007507        75.071633\n",
       "2015-01-07        2.94       0.842407    0.008424        84.240688\n",
       "2015-01-08        2.98       0.853868    0.008539        85.386819"
      ]
     },
     "execution_count": 14,
     "metadata": {},
     "output_type": "execute_result"
    }
   ],
   "source": [
    "neon.head()"
   ]
  },
  {
   "cell_type": "code",
   "execution_count": 15,
   "metadata": {
    "collapsed": false
   },
   "outputs": [],
   "source": [
    "all_pos_vals = [aapl['Position Values'], amd['Position Values'], neon['Position Values'], amzn['Position Values'],\n",
    "               alphabet_clA['Position Values'], alphabet_clC['Position Values']]"
   ]
  },
  {
   "cell_type": "code",
   "execution_count": 16,
   "metadata": {
    "collapsed": false
   },
   "outputs": [],
   "source": [
    "portfolio_val = pd.concat(all_pos_vals, axis = 1)"
   ]
  },
  {
   "cell_type": "code",
   "execution_count": 17,
   "metadata": {
    "collapsed": false
   },
   "outputs": [
    {
     "data": {
      "text/html": [
       "<div>\n",
       "<table border=\"1\" class=\"dataframe\">\n",
       "  <thead>\n",
       "    <tr style=\"text-align: right;\">\n",
       "      <th></th>\n",
       "      <th>Position Values</th>\n",
       "      <th>Position Values</th>\n",
       "      <th>Position Values</th>\n",
       "      <th>Position Values</th>\n",
       "      <th>Position Values</th>\n",
       "      <th>Position Values</th>\n",
       "    </tr>\n",
       "    <tr>\n",
       "      <th>Date</th>\n",
       "      <th></th>\n",
       "      <th></th>\n",
       "      <th></th>\n",
       "      <th></th>\n",
       "      <th></th>\n",
       "      <th></th>\n",
       "    </tr>\n",
       "  </thead>\n",
       "  <tbody>\n",
       "    <tr>\n",
       "      <th>2015-01-02</th>\n",
       "      <td>5800.000000</td>\n",
       "      <td>300.000000</td>\n",
       "      <td>100.000000</td>\n",
       "      <td>2800.000000</td>\n",
       "      <td>500.000000</td>\n",
       "      <td>500.000000</td>\n",
       "    </tr>\n",
       "    <tr>\n",
       "      <th>2015-01-05</th>\n",
       "      <td>5636.604775</td>\n",
       "      <td>296.654275</td>\n",
       "      <td>95.415473</td>\n",
       "      <td>2742.551536</td>\n",
       "      <td>490.473043</td>\n",
       "      <td>489.577180</td>\n",
       "    </tr>\n",
       "    <tr>\n",
       "      <th>2015-01-06</th>\n",
       "      <td>5637.135279</td>\n",
       "      <td>293.308550</td>\n",
       "      <td>75.071633</td>\n",
       "      <td>2679.929988</td>\n",
       "      <td>478.368426</td>\n",
       "      <td>478.230217</td>\n",
       "    </tr>\n",
       "    <tr>\n",
       "      <th>2015-01-07</th>\n",
       "      <td>5716.180371</td>\n",
       "      <td>287.732342</td>\n",
       "      <td>84.240688</td>\n",
       "      <td>2708.336575</td>\n",
       "      <td>476.961571</td>\n",
       "      <td>477.410873</td>\n",
       "    </tr>\n",
       "    <tr>\n",
       "      <th>2015-01-08</th>\n",
       "      <td>5935.809019</td>\n",
       "      <td>291.078067</td>\n",
       "      <td>85.386819</td>\n",
       "      <td>2726.850771</td>\n",
       "      <td>478.623359</td>\n",
       "      <td>478.916179</td>\n",
       "    </tr>\n",
       "  </tbody>\n",
       "</table>\n",
       "</div>"
      ],
      "text/plain": [
       "            Position Values  Position Values  Position Values  \\\n",
       "Date                                                            \n",
       "2015-01-02      5800.000000       300.000000       100.000000   \n",
       "2015-01-05      5636.604775       296.654275        95.415473   \n",
       "2015-01-06      5637.135279       293.308550        75.071633   \n",
       "2015-01-07      5716.180371       287.732342        84.240688   \n",
       "2015-01-08      5935.809019       291.078067        85.386819   \n",
       "\n",
       "            Position Values  Position Values  Position Values  \n",
       "Date                                                           \n",
       "2015-01-02      2800.000000       500.000000       500.000000  \n",
       "2015-01-05      2742.551536       490.473043       489.577180  \n",
       "2015-01-06      2679.929988       478.368426       478.230217  \n",
       "2015-01-07      2708.336575       476.961571       477.410873  \n",
       "2015-01-08      2726.850771       478.623359       478.916179  "
      ]
     },
     "execution_count": 17,
     "metadata": {},
     "output_type": "execute_result"
    }
   ],
   "source": [
    "portfolio_val.head()"
   ]
  },
  {
   "cell_type": "code",
   "execution_count": 18,
   "metadata": {
    "collapsed": true
   },
   "outputs": [],
   "source": [
    "portfolio_val.columns = ['AAPL Pos','AMD Pos','NEON Pos','AMZN Pos', 'GOOGL Pos', 'GOOG Pos']"
   ]
  },
  {
   "cell_type": "code",
   "execution_count": 19,
   "metadata": {
    "collapsed": false
   },
   "outputs": [
    {
     "data": {
      "text/html": [
       "<div>\n",
       "<table border=\"1\" class=\"dataframe\">\n",
       "  <thead>\n",
       "    <tr style=\"text-align: right;\">\n",
       "      <th></th>\n",
       "      <th>AAPL Pos</th>\n",
       "      <th>AMD Pos</th>\n",
       "      <th>NEON Pos</th>\n",
       "      <th>AMZN Pos</th>\n",
       "      <th>GOOGL Pos</th>\n",
       "      <th>GOOG Pos</th>\n",
       "    </tr>\n",
       "    <tr>\n",
       "      <th>Date</th>\n",
       "      <th></th>\n",
       "      <th></th>\n",
       "      <th></th>\n",
       "      <th></th>\n",
       "      <th></th>\n",
       "      <th></th>\n",
       "    </tr>\n",
       "  </thead>\n",
       "  <tbody>\n",
       "    <tr>\n",
       "      <th>2015-01-02</th>\n",
       "      <td>5800.000000</td>\n",
       "      <td>300.000000</td>\n",
       "      <td>100.000000</td>\n",
       "      <td>2800.000000</td>\n",
       "      <td>500.000000</td>\n",
       "      <td>500.000000</td>\n",
       "    </tr>\n",
       "    <tr>\n",
       "      <th>2015-01-05</th>\n",
       "      <td>5636.604775</td>\n",
       "      <td>296.654275</td>\n",
       "      <td>95.415473</td>\n",
       "      <td>2742.551536</td>\n",
       "      <td>490.473043</td>\n",
       "      <td>489.577180</td>\n",
       "    </tr>\n",
       "    <tr>\n",
       "      <th>2015-01-06</th>\n",
       "      <td>5637.135279</td>\n",
       "      <td>293.308550</td>\n",
       "      <td>75.071633</td>\n",
       "      <td>2679.929988</td>\n",
       "      <td>478.368426</td>\n",
       "      <td>478.230217</td>\n",
       "    </tr>\n",
       "    <tr>\n",
       "      <th>2015-01-07</th>\n",
       "      <td>5716.180371</td>\n",
       "      <td>287.732342</td>\n",
       "      <td>84.240688</td>\n",
       "      <td>2708.336575</td>\n",
       "      <td>476.961571</td>\n",
       "      <td>477.410873</td>\n",
       "    </tr>\n",
       "    <tr>\n",
       "      <th>2015-01-08</th>\n",
       "      <td>5935.809019</td>\n",
       "      <td>291.078067</td>\n",
       "      <td>85.386819</td>\n",
       "      <td>2726.850771</td>\n",
       "      <td>478.623359</td>\n",
       "      <td>478.916179</td>\n",
       "    </tr>\n",
       "  </tbody>\n",
       "</table>\n",
       "</div>"
      ],
      "text/plain": [
       "               AAPL Pos     AMD Pos    NEON Pos     AMZN Pos   GOOGL Pos  \\\n",
       "Date                                                                       \n",
       "2015-01-02  5800.000000  300.000000  100.000000  2800.000000  500.000000   \n",
       "2015-01-05  5636.604775  296.654275   95.415473  2742.551536  490.473043   \n",
       "2015-01-06  5637.135279  293.308550   75.071633  2679.929988  478.368426   \n",
       "2015-01-07  5716.180371  287.732342   84.240688  2708.336575  476.961571   \n",
       "2015-01-08  5935.809019  291.078067   85.386819  2726.850771  478.623359   \n",
       "\n",
       "              GOOG Pos  \n",
       "Date                    \n",
       "2015-01-02  500.000000  \n",
       "2015-01-05  489.577180  \n",
       "2015-01-06  478.230217  \n",
       "2015-01-07  477.410873  \n",
       "2015-01-08  478.916179  "
      ]
     },
     "execution_count": 19,
     "metadata": {},
     "output_type": "execute_result"
    }
   ],
   "source": [
    "portfolio_val.head()"
   ]
  },
  {
   "cell_type": "code",
   "execution_count": 20,
   "metadata": {
    "collapsed": true
   },
   "outputs": [],
   "source": [
    "portfolio_val['Total Pos'] = portfolio_val.sum(axis=1)"
   ]
  },
  {
   "cell_type": "code",
   "execution_count": 21,
   "metadata": {
    "collapsed": false
   },
   "outputs": [
    {
     "data": {
      "text/html": [
       "<div>\n",
       "<table border=\"1\" class=\"dataframe\">\n",
       "  <thead>\n",
       "    <tr style=\"text-align: right;\">\n",
       "      <th></th>\n",
       "      <th>AAPL Pos</th>\n",
       "      <th>AMD Pos</th>\n",
       "      <th>NEON Pos</th>\n",
       "      <th>AMZN Pos</th>\n",
       "      <th>GOOGL Pos</th>\n",
       "      <th>GOOG Pos</th>\n",
       "      <th>Total Pos</th>\n",
       "    </tr>\n",
       "    <tr>\n",
       "      <th>Date</th>\n",
       "      <th></th>\n",
       "      <th></th>\n",
       "      <th></th>\n",
       "      <th></th>\n",
       "      <th></th>\n",
       "      <th></th>\n",
       "      <th></th>\n",
       "    </tr>\n",
       "  </thead>\n",
       "  <tbody>\n",
       "    <tr>\n",
       "      <th>2015-01-02</th>\n",
       "      <td>5800.000000</td>\n",
       "      <td>300.000000</td>\n",
       "      <td>100.000000</td>\n",
       "      <td>2800.000000</td>\n",
       "      <td>500.000000</td>\n",
       "      <td>500.000000</td>\n",
       "      <td>10000.000000</td>\n",
       "    </tr>\n",
       "    <tr>\n",
       "      <th>2015-01-05</th>\n",
       "      <td>5636.604775</td>\n",
       "      <td>296.654275</td>\n",
       "      <td>95.415473</td>\n",
       "      <td>2742.551536</td>\n",
       "      <td>490.473043</td>\n",
       "      <td>489.577180</td>\n",
       "      <td>9751.276282</td>\n",
       "    </tr>\n",
       "    <tr>\n",
       "      <th>2015-01-06</th>\n",
       "      <td>5637.135279</td>\n",
       "      <td>293.308550</td>\n",
       "      <td>75.071633</td>\n",
       "      <td>2679.929988</td>\n",
       "      <td>478.368426</td>\n",
       "      <td>478.230217</td>\n",
       "      <td>9642.044093</td>\n",
       "    </tr>\n",
       "    <tr>\n",
       "      <th>2015-01-07</th>\n",
       "      <td>5716.180371</td>\n",
       "      <td>287.732342</td>\n",
       "      <td>84.240688</td>\n",
       "      <td>2708.336575</td>\n",
       "      <td>476.961571</td>\n",
       "      <td>477.410873</td>\n",
       "      <td>9750.862419</td>\n",
       "    </tr>\n",
       "    <tr>\n",
       "      <th>2015-01-08</th>\n",
       "      <td>5935.809019</td>\n",
       "      <td>291.078067</td>\n",
       "      <td>85.386819</td>\n",
       "      <td>2726.850771</td>\n",
       "      <td>478.623359</td>\n",
       "      <td>478.916179</td>\n",
       "      <td>9996.664215</td>\n",
       "    </tr>\n",
       "  </tbody>\n",
       "</table>\n",
       "</div>"
      ],
      "text/plain": [
       "               AAPL Pos     AMD Pos    NEON Pos     AMZN Pos   GOOGL Pos  \\\n",
       "Date                                                                       \n",
       "2015-01-02  5800.000000  300.000000  100.000000  2800.000000  500.000000   \n",
       "2015-01-05  5636.604775  296.654275   95.415473  2742.551536  490.473043   \n",
       "2015-01-06  5637.135279  293.308550   75.071633  2679.929988  478.368426   \n",
       "2015-01-07  5716.180371  287.732342   84.240688  2708.336575  476.961571   \n",
       "2015-01-08  5935.809019  291.078067   85.386819  2726.850771  478.623359   \n",
       "\n",
       "              GOOG Pos     Total Pos  \n",
       "Date                                  \n",
       "2015-01-02  500.000000  10000.000000  \n",
       "2015-01-05  489.577180   9751.276282  \n",
       "2015-01-06  478.230217   9642.044093  \n",
       "2015-01-07  477.410873   9750.862419  \n",
       "2015-01-08  478.916179   9996.664215  "
      ]
     },
     "execution_count": 21,
     "metadata": {},
     "output_type": "execute_result"
    }
   ],
   "source": [
    "portfolio_val.head()"
   ]
  },
  {
   "cell_type": "code",
   "execution_count": 22,
   "metadata": {
    "collapsed": false
   },
   "outputs": [],
   "source": [
    "import matplotlib.pyplot as plt\n",
    "%matplotlib inline"
   ]
  },
  {
   "cell_type": "code",
   "execution_count": 23,
   "metadata": {
    "collapsed": false
   },
   "outputs": [
    {
     "data": {
      "text/plain": [
       "<matplotlib.text.Text at 0x868e970>"
      ]
     },
     "execution_count": 23,
     "metadata": {},
     "output_type": "execute_result"
    },
    {
     "data": {
      "image/png": "[encoded data removed]",
      "text/plain": [
       "<matplotlib.figure.Figure at 0x8664df0>"
      ]
     },
     "metadata": {},
     "output_type": "display_data"
    }
   ],
   "source": [
    "portfolio_val['Total Pos'].plot(figsize=(10,8))\n",
    "plt.title('Total Portfolio Value')"
   ]
  },
  {
   "cell_type": "code",
   "execution_count": 24,
   "metadata": {
    "collapsed": false
   },
   "outputs": [
    {
     "data": {
      "text/plain": [
       "<matplotlib.axes._subplots.AxesSubplot at 0x5db0670>"
      ]
     },
     "execution_count": 24,
     "metadata": {},
     "output_type": "execute_result"
    },
    {
     "data": {
      "image/png": "[encoded data removed]",
      "text/plain": [
       "<matplotlib.figure.Figure at 0x1601730>"
      ]
     },
     "metadata": {},
     "output_type": "display_data"
    }
   ],
   "source": [
    "portfolio_val.drop('Total Pos', axis=1).plot(figsize=(10,8))"
   ]
  },
  {
   "cell_type": "code",
   "execution_count": 31,
   "metadata": {
    "collapsed": false
   },
   "outputs": [
    {
     "data": {
      "text/html": [
       "<div>\n",
       "<table border=\"1\" class=\"dataframe\">\n",
       "  <thead>\n",
       "    <tr style=\"text-align: right;\">\n",
       "      <th></th>\n",
       "      <th>AAPL Pos</th>\n",
       "      <th>CISCO Pos</th>\n",
       "      <th>IBM Pos</th>\n",
       "      <th>AMZN Pos</th>\n",
       "      <th>Totoal Pos</th>\n",
       "      <th>Total Pos</th>\n",
       "    </tr>\n",
       "    <tr>\n",
       "      <th>Date</th>\n",
       "      <th></th>\n",
       "      <th></th>\n",
       "      <th></th>\n",
       "      <th></th>\n",
       "      <th></th>\n",
       "      <th></th>\n",
       "    </tr>\n",
       "  </thead>\n",
       "  <tbody>\n",
       "    <tr>\n",
       "      <th>2012-01-03</th>\n",
       "      <td>300000.000000</td>\n",
       "      <td>200000.000000</td>\n",
       "      <td>100000.000000</td>\n",
       "      <td>400000.000000</td>\n",
       "      <td>1.000000e+06</td>\n",
       "      <td>2.000000e+06</td>\n",
       "    </tr>\n",
       "    <tr>\n",
       "      <th>2012-01-04</th>\n",
       "      <td>301612.236461</td>\n",
       "      <td>203864.734300</td>\n",
       "      <td>99592.055824</td>\n",
       "      <td>396603.921131</td>\n",
       "      <td>1.001673e+06</td>\n",
       "      <td>2.003346e+06</td>\n",
       "    </tr>\n",
       "    <tr>\n",
       "      <th>2012-01-05</th>\n",
       "      <td>304960.727573</td>\n",
       "      <td>203113.258186</td>\n",
       "      <td>99119.699410</td>\n",
       "      <td>396827.347372</td>\n",
       "      <td>1.004021e+06</td>\n",
       "      <td>2.008042e+06</td>\n",
       "    </tr>\n",
       "    <tr>\n",
       "      <th>2012-01-06</th>\n",
       "      <td>308148.724558</td>\n",
       "      <td>202361.782072</td>\n",
       "      <td>97981.749866</td>\n",
       "      <td>407998.659443</td>\n",
       "      <td>1.016491e+06</td>\n",
       "      <td>2.032982e+06</td>\n",
       "    </tr>\n",
       "    <tr>\n",
       "      <th>2012-01-09</th>\n",
       "      <td>307659.946988</td>\n",
       "      <td>203650.026838</td>\n",
       "      <td>97471.819646</td>\n",
       "      <td>398949.896665</td>\n",
       "      <td>1.007732e+06</td>\n",
       "      <td>2.015463e+06</td>\n",
       "    </tr>\n",
       "  </tbody>\n",
       "</table>\n",
       "</div>"
      ],
      "text/plain": [
       "                 AAPL Pos      CISCO Pos        IBM Pos       AMZN Pos  \\\n",
       "Date                                                                     \n",
       "2012-01-03  300000.000000  200000.000000  100000.000000  400000.000000   \n",
       "2012-01-04  301612.236461  203864.734300   99592.055824  396603.921131   \n",
       "2012-01-05  304960.727573  203113.258186   99119.699410  396827.347372   \n",
       "2012-01-06  308148.724558  202361.782072   97981.749866  407998.659443   \n",
       "2012-01-09  307659.946988  203650.026838   97471.819646  398949.896665   \n",
       "\n",
       "              Totoal Pos     Total Pos  \n",
       "Date                                    \n",
       "2012-01-03  1.000000e+06  2.000000e+06  \n",
       "2012-01-04  1.001673e+06  2.003346e+06  \n",
       "2012-01-05  1.004021e+06  2.008042e+06  \n",
       "2012-01-06  1.016491e+06  2.032982e+06  \n",
       "2012-01-09  1.007732e+06  2.015463e+06  "
      ]
     },
     "execution_count": 31,
     "metadata": {},
     "output_type": "execute_result"
    }
   ],
   "source": [
    "# Portfolio Stats\n",
    "portfolio_val.head()"
   ]
  },
  {
   "cell_type": "code",
   "execution_count": 25,
   "metadata": {
    "collapsed": true
   },
   "outputs": [],
   "source": [
    "portfolio_val['Daily Return'] = portfolio_val['Total Pos'].pct_change(1)"
   ]
  },
  {
   "cell_type": "code",
   "execution_count": 26,
   "metadata": {
    "collapsed": false
   },
   "outputs": [
    {
     "data": {
      "text/plain": [
       "0.007049526801436692"
      ]
     },
     "execution_count": 26,
     "metadata": {},
     "output_type": "execute_result"
    }
   ],
   "source": [
    "# get the average daily return\n",
    "portfolio_val['Daily Return'].mean()"
   ]
  },
  {
   "cell_type": "code",
   "execution_count": 27,
   "metadata": {
    "collapsed": false
   },
   "outputs": [
    {
     "data": {
      "text/plain": [
       "0.19359077666109742"
      ]
     },
     "execution_count": 27,
     "metadata": {},
     "output_type": "execute_result"
    }
   ],
   "source": [
    "portfolio_val['Daily Return'].std()"
   ]
  },
  {
   "cell_type": "code",
   "execution_count": 37,
   "metadata": {
    "collapsed": false
   },
   "outputs": [
    {
     "data": {
      "text/plain": [
       "<matplotlib.axes._subplots.AxesSubplot at 0xbc4ced0>"
      ]
     },
     "execution_count": 37,
     "metadata": {},
     "output_type": "execute_result"
    },
    {
     "data": {
      "image/png": "[encoded data removed]",
      "text/plain": [
       "<matplotlib.figure.Figure at 0x1601610>"
      ]
     },
     "metadata": {},
     "output_type": "display_data"
    }
   ],
   "source": [
    " portfolio_val['Daily Return'].plot(kind='hist', bins = 100, figsize = (4,5))"
   ]
  },
  {
   "cell_type": "code",
   "execution_count": 29,
   "metadata": {
    "collapsed": false
   },
   "outputs": [
    {
     "data": {
      "text/plain": [
       "<matplotlib.axes._subplots.AxesSubplot at 0x5f06690>"
      ]
     },
     "execution_count": 29,
     "metadata": {},
     "output_type": "execute_result"
    },
    {
     "data": {
      "image/png": "[encoded data removed]",
      "text/plain": [
       "<matplotlib.figure.Figure at 0x5f8f0b0>"
      ]
     },
     "metadata": {},
     "output_type": "display_data"
    }
   ],
   "source": [
    "portfolio_val['Daily Return'].plot(kind='kde', figsize = (4,5))"
   ]
  },
  {
   "cell_type": "code",
   "execution_count": 30,
   "metadata": {
    "collapsed": true
   },
   "outputs": [],
   "source": [
    "cumulative_return = 100 * (portfolio_val['Total Pos'][-1]/portfolio_val['Total Pos'][0]-1)"
   ]
  },
  {
   "cell_type": "code",
   "execution_count": 31,
   "metadata": {
    "collapsed": false
   },
   "outputs": [
    {
     "data": {
      "text/plain": [
       "179.00268312320367"
      ]
     },
     "execution_count": 31,
     "metadata": {},
     "output_type": "execute_result"
    }
   ],
   "source": [
    "cumulative_return"
   ]
  },
  {
   "cell_type": "code",
   "execution_count": 32,
   "metadata": {
    "collapsed": false
   },
   "outputs": [],
   "source": [
    "# Sharpe ratio\n",
    "# portfolio return minus the risk-free rate divided by the standard deviation\n",
    "# risk-free rate will be 0.0 for the moment\n",
    "SR = portfolio_val['Daily Return'].mean() / portfolio_val['Daily Return'].std()"
   ]
  },
  {
   "cell_type": "code",
   "execution_count": 33,
   "metadata": {
    "collapsed": false
   },
   "outputs": [
    {
     "data": {
      "text/plain": [
       "0.03641457988351215"
      ]
     },
     "execution_count": 33,
     "metadata": {},
     "output_type": "execute_result"
    }
   ],
   "source": [
    "SR"
   ]
  },
  {
   "cell_type": "code",
   "execution_count": 34,
   "metadata": {
    "collapsed": false
   },
   "outputs": [],
   "source": [
    "# annualized - multiply by the square-root of 252 (business days in the year)\n",
    "ASR = (252**0.5) * SR"
   ]
  },
  {
   "cell_type": "code",
   "execution_count": 35,
   "metadata": {
    "collapsed": false
   },
   "outputs": [
    {
     "data": {
      "text/plain": [
       "0.5780635348120112"
      ]
     },
     "execution_count": 35,
     "metadata": {},
     "output_type": "execute_result"
    }
   ],
   "source": [
    "ASR"
   ]
  }
 ],
 "metadata": {
  "anaconda-cloud": {},
  "kernelspec": {
   "display_name": "Python [default]",
   "language": "python",
   "name": "python3"
  },
  "language_info": {
   "codemirror_mode": {
    "name": "ipython",
    "version": 3
   },
   "file_extension": ".py",
   "mimetype": "text/x-python",
   "name": "python",
   "nbconvert_exporter": "python",
   "pygments_lexer": "ipython3",
   "version": "3.5.2"
  }
 },
 "nbformat": 4,
 "nbformat_minor": 1
}
